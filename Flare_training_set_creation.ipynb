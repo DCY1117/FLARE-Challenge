{
 "cells": [
  {
   "cell_type": "markdown",
   "metadata": {},
   "source": [
    "# Create Training set for Mistral Model"
   ]
  },
  {
   "cell_type": "code",
   "execution_count": 1,
   "metadata": {},
   "outputs": [],
   "source": [
    "import pandas as pd"
   ]
  },
  {
   "cell_type": "code",
   "execution_count": 2,
   "metadata": {},
   "outputs": [],
   "source": [
    "# Load the data\n",
    "task1_train = pd.read_json('Flares-dataset/5w1h_subtarea_1_train.json', lines=True)\n",
    "task1_test = pd.read_json('Flares-dataset/5w1h_subtask_1_trial.json', lines=True)"
   ]
  },
  {
   "cell_type": "code",
   "execution_count": 3,
   "metadata": {},
   "outputs": [
    {
     "name": "stdout",
     "output_type": "stream",
     "text": [
      "Shape of the DataFrame train: (1585, 3)\n",
      "Shape of the DataFrame test: (168, 3)\n"
     ]
    }
   ],
   "source": [
    "# Check the shape of the DataFrame\n",
    "print(\"Shape of the DataFrame train:\", task1_train.shape)\n",
    "print(\"Shape of the DataFrame test:\", task1_test.shape)"
   ]
  },
  {
   "cell_type": "code",
   "execution_count": 4,
   "metadata": {},
   "outputs": [
    {
     "data": {
      "text/html": [
       "<div>\n",
       "<style scoped>\n",
       "    .dataframe tbody tr th:only-of-type {\n",
       "        vertical-align: middle;\n",
       "    }\n",
       "\n",
       "    .dataframe tbody tr th {\n",
       "        vertical-align: top;\n",
       "    }\n",
       "\n",
       "    .dataframe thead th {\n",
       "        text-align: right;\n",
       "    }\n",
       "</style>\n",
       "<table border=\"1\" class=\"dataframe\">\n",
       "  <thead>\n",
       "    <tr style=\"text-align: right;\">\n",
       "      <th></th>\n",
       "      <th>Id</th>\n",
       "      <th>Text</th>\n",
       "      <th>Tags</th>\n",
       "    </tr>\n",
       "  </thead>\n",
       "  <tbody>\n",
       "    <tr>\n",
       "      <th>0</th>\n",
       "      <td>732</td>\n",
       "      <td>Dos días, exactamente han pasado dos días desd...</td>\n",
       "      <td>[{'Tag_Start': 52, 'Tag_End': 59, '5W1H_Label'...</td>\n",
       "    </tr>\n",
       "    <tr>\n",
       "      <th>1</th>\n",
       "      <td>219</td>\n",
       "      <td>Pero no pasará nada, el PSOE no exigirá la dim...</td>\n",
       "      <td>[{'Tag_Start': 21, 'Tag_End': 28, '5W1H_Label'...</td>\n",
       "    </tr>\n",
       "    <tr>\n",
       "      <th>2</th>\n",
       "      <td>559</td>\n",
       "      <td>Pero los investigadores no encontraron evidenc...</td>\n",
       "      <td>[{'Tag_Start': 5, 'Tag_End': 23, '5W1H_Label':...</td>\n",
       "    </tr>\n",
       "    <tr>\n",
       "      <th>3</th>\n",
       "      <td>1296</td>\n",
       "      <td>Sus otras dos cabezas más visibles han sido el...</td>\n",
       "      <td>[{'Tag_Start': 22, 'Tag_End': 34, '5W1H_Label'...</td>\n",
       "    </tr>\n",
       "    <tr>\n",
       "      <th>4</th>\n",
       "      <td>1229</td>\n",
       "      <td>A modo de ejemplo, los hospitales privados lle...</td>\n",
       "      <td>[{'Tag_Start': 19, 'Tag_End': 42, '5W1H_Label'...</td>\n",
       "    </tr>\n",
       "  </tbody>\n",
       "</table>\n",
       "</div>"
      ],
      "text/plain": [
       "     Id                                               Text  \\\n",
       "0   732  Dos días, exactamente han pasado dos días desd...   \n",
       "1   219  Pero no pasará nada, el PSOE no exigirá la dim...   \n",
       "2   559  Pero los investigadores no encontraron evidenc...   \n",
       "3  1296  Sus otras dos cabezas más visibles han sido el...   \n",
       "4  1229  A modo de ejemplo, los hospitales privados lle...   \n",
       "\n",
       "                                                Tags  \n",
       "0  [{'Tag_Start': 52, 'Tag_End': 59, '5W1H_Label'...  \n",
       "1  [{'Tag_Start': 21, 'Tag_End': 28, '5W1H_Label'...  \n",
       "2  [{'Tag_Start': 5, 'Tag_End': 23, '5W1H_Label':...  \n",
       "3  [{'Tag_Start': 22, 'Tag_End': 34, '5W1H_Label'...  \n",
       "4  [{'Tag_Start': 19, 'Tag_End': 42, '5W1H_Label'...  "
      ]
     },
     "execution_count": 4,
     "metadata": {},
     "output_type": "execute_result"
    }
   ],
   "source": [
    "task1_train.head()"
   ]
  },
  {
   "cell_type": "markdown",
   "metadata": {},
   "source": [
    "## Text labeling"
   ]
  },
  {
   "cell_type": "markdown",
   "metadata": {},
   "source": [
    "Text labeling works by putting the position of the first letter in Tag_start and the last letter + 1 in Tag_end."
   ]
  },
  {
   "cell_type": "code",
   "execution_count": 7,
   "metadata": {},
   "outputs": [],
   "source": [
    "# Your text\n",
    "text = task1_train['Text'][0]"
   ]
  },
  {
   "cell_type": "code",
   "execution_count": 8,
   "metadata": {},
   "outputs": [
    {
     "name": "stdout",
     "output_type": "stream",
     "text": [
      "Extracted Text: Sánchez, 5W1H Label: WHO\n",
      "Extracted Text: en rueda de prensa en la Moncloa, 5W1H Label: WHERE\n",
      "Extracted Text: a España, 5W1H Label: WHO\n",
      "Extracted Text: entre abril y septiembre, 5W1H Label: WHEN\n",
      "Extracted Text: un total de 87 millones de vacunas, 5W1H Label: WHAT\n",
      "Extracted Text: las mentiras, 5W1H Label: WHAT\n",
      "Extracted Text: de Sánchez, 5W1H Label: WHO\n",
      "Extracted Text: ese refrán que dice, 5W1H Label: WHAT\n"
     ]
    }
   ],
   "source": [
    "# Loop through each tag in the first item of task1_train['Tags']\n",
    "for tag in task1_train['Tags'][0]:\n",
    "    # Extract the text based on Tag_Start and Tag_End\n",
    "    extracted_text = text[tag['Tag_Start']:tag['Tag_End']]\n",
    "    # Print the extracted text and the corresponding 5W1H label\n",
    "    print(f\"Extracted Text: {extracted_text}, 5W1H Label: {tag['5W1H_Label']}\")"
   ]
  },
  {
   "cell_type": "code",
   "execution_count": 9,
   "metadata": {},
   "outputs": [
    {
     "data": {
      "text/plain": [
       "'S'"
      ]
     },
     "execution_count": 9,
     "metadata": {},
     "output_type": "execute_result"
    }
   ],
   "source": [
    "text[52]"
   ]
  },
  {
   "cell_type": "code",
   "execution_count": 10,
   "metadata": {},
   "outputs": [
    {
     "data": {
      "text/plain": [
       "' '"
      ]
     },
     "execution_count": 10,
     "metadata": {},
     "output_type": "execute_result"
    }
   ],
   "source": [
    "text[59]"
   ]
  },
  {
   "cell_type": "markdown",
   "metadata": {},
   "source": [
    "Queremos algo asi:"
   ]
  },
  {
   "cell_type": "code",
   "execution_count": 13,
   "metadata": {},
   "outputs": [],
   "source": [
    "true = {\"input\": text, \"output\": \"Text: Sánchez, 5W1H Label: WHO \\n Text: en rueda de prensa en la Moncloa, 5W1H Label: WHERE \\n Text: a España, 5W1H Label: WHO \\n Text: entre abril y septiembre, 5W1H Label: WHEN \\n Text: un total de 87 millones de vacunas, 5W1H Label: WHAT \\n Text: las mentiras, 5W1H Label: WHAT \\n Text: de Sánchez, 5W1H Label: WHO \\n Text: ese refrán que dice, 5W1H Label: WHAT\"}"
   ]
  },
  {
   "cell_type": "code",
   "execution_count": 14,
   "metadata": {},
   "outputs": [
    {
     "data": {
      "text/plain": [
       "{'input': 'Dos días, exactamente han pasado dos días desde que Sánchez compareciera en rueda de prensa en la Moncloa afirmando que a España llegarían, entre abril y septiembre, un total de 87 millones de vacunas para darnos cuenta de que las mentiras de Sánchez hacen bueno ese refrán que dice que “la mentira tiene las patas muy cortas”.',\n",
       " 'output': 'Text: Sánchez, 5W1H Label: WHO \\n Text: en rueda de prensa en la Moncloa, 5W1H Label: WHERE \\n Text: a España, 5W1H Label: WHO \\n Text: entre abril y septiembre, 5W1H Label: WHEN \\n Text: un total de 87 millones de vacunas, 5W1H Label: WHAT \\n Text: las mentiras, 5W1H Label: WHAT \\n Text: de Sánchez, 5W1H Label: WHO \\n Text: ese refrán que dice, 5W1H Label: WHAT'}"
      ]
     },
     "execution_count": 14,
     "metadata": {},
     "output_type": "execute_result"
    }
   ],
   "source": [
    "true"
   ]
  },
  {
   "cell_type": "code",
   "execution_count": 15,
   "metadata": {},
   "outputs": [
    {
     "name": "stdout",
     "output_type": "stream",
     "text": [
      "{'input': 'Dos días, exactamente han pasado dos días desde que Sánchez compareciera en rueda de prensa en la Moncloa afirmando que a España llegarían, entre abril y septiembre, un total de 87 millones de vacunas para darnos cuenta de que las mentiras de Sánchez hacen bueno ese refrán que dice que “la mentira tiene las patas muy cortas”.', 'output': 'Text: Sánchez, 5W1H Label: WHO \\n Text: en rueda de prensa en la Moncloa, 5W1H Label: WHERE \\n Text: a España, 5W1H Label: WHO \\n Text: entre abril y septiembre, 5W1H Label: WHEN \\n Text: un total de 87 millones de vacunas, 5W1H Label: WHAT \\n Text: las mentiras, 5W1H Label: WHAT \\n Text: de Sánchez, 5W1H Label: WHO \\n Text: ese refrán que dice, 5W1H Label: WHAT'}\n"
     ]
    }
   ],
   "source": [
    "formatted_data = []  # List to hold the formatted dictionaries\n",
    "\n",
    "for i in range(len(task1_train['Text'])):\n",
    "    # Constructing the 'input' part\n",
    "    input_text = task1_train['Text'][i]\n",
    "    \n",
    "    # Initializing the 'output' part\n",
    "    output_text = ''\n",
    "    \n",
    "    # Loop through each tag and append the extracted text and 5W1H label to 'output'\n",
    "    for tag in task1_train['Tags'][i]:\n",
    "        extracted_text = input_text[tag['Tag_Start']:tag['Tag_End']]\n",
    "        output_text += f\"Text: {extracted_text}, 5W1H Label: {tag['5W1H_Label']} \\n \"\n",
    "    \n",
    "    # Remove the last newline and space\n",
    "    output_text = output_text.rstrip('\\n ')\n",
    "    \n",
    "    # Append the formatted dictionary to the list\n",
    "    formatted_data.append({'input': input_text, 'output': output_text})\n",
    "\n",
    "# Now `formatted_data` contains all your formatted dictionaries\n",
    "# Here's how you can print the first formatted dictionary to check\n",
    "print(formatted_data[0])"
   ]
  },
  {
   "cell_type": "code",
   "execution_count": 17,
   "metadata": {},
   "outputs": [
    {
     "name": "stdout",
     "output_type": "stream",
     "text": [
      "{'input': 'Dos días, exactamente han pasado dos días desde que Sánchez compareciera en rueda de prensa en la Moncloa afirmando que a España llegarían, entre abril y septiembre, un total de 87 millones de vacunas para darnos cuenta de que las mentiras de Sánchez hacen bueno ese refrán que dice que “la mentira tiene las patas muy cortas”.', 'output': 'Text: Sánchez, 5W1H Label: WHO \\n Text: en rueda de prensa en la Moncloa, 5W1H Label: WHERE \\n Text: a España, 5W1H Label: WHO \\n Text: entre abril y septiembre, 5W1H Label: WHEN \\n Text: un total de 87 millones de vacunas, 5W1H Label: WHAT \\n Text: las mentiras, 5W1H Label: WHAT \\n Text: de Sánchez, 5W1H Label: WHO \\n Text: ese refrán que dice, 5W1H Label: WHAT'}\n",
      "\n",
      "{'input': 'Pero no pasará nada, el PSOE no exigirá la dimisión de este machista, porque para eso es de los suyos, de la izquierda rabiosa de este país que se dedica a dar lecciones de feminismo y a la mínima de cambio insultan a las mujeres por su forma de vestir.', 'output': 'Text: el PSOE, 5W1H Label: WHO \\n Text: la dimisión, 5W1H Label: WHAT \\n Text: de este machista, 5W1H Label: WHO \\n Text: porque para eso es de los suyos, 5W1H Label: WHY \\n Text: de la izquierda rabiosa, 5W1H Label: WHO \\n Text: de este país, 5W1H Label: WHERE \\n Text: a dar lecciones de feminismo, 5W1H Label: WHAT \\n Text: a las mujeres, 5W1H Label: WHO \\n Text: por su forma de vestir, 5W1H Label: WHY'}\n",
      "\n",
      "{'input': 'Pero los investigadores no encontraron evidencia de que la aspirina aumentara el riesgo de hemorragia en los pacientes hospitalizados con COVID-19.', 'output': 'Text: los investigadores, 5W1H Label: WHO \\n Text: evidencia de que la aspirina aumentara el riesgo de hemorragia, 5W1H Label: WHAT \\n Text: en los pacientes hospitalizados con COVID-19, 5W1H Label: WHO'}\n",
      "\n",
      "{'input': 'Sus otras dos cabezas más visibles han sido el premio Nobel de Física, Arthur McDonald, y el científico senior de INFN Cagliari, Walter Bonivento.', 'output': 'Text: más visibles, 5W1H Label: HOW \\n Text: el premio Nobel de Física, Arthur McDonald, 5W1H Label: WHO \\n Text: el científico senior de INFN Cagliari, Walter Bonivento, 5W1H Label: WHO'}\n",
      "\n",
      "{'input': 'A modo de ejemplo, los hospitales privados llevan a cabo más del 30% de las intervenciones quirúrgicas, cerca del 25% de las altas y el 25% aproximadamente de las urgencias de todo el territorio nacional.Esta apuesta por la salud el bienestar también aparece reflejada en su\\xa0“Manifiesto por una mejor Sanidad”,\\xa0en el que la entidad propone diez principios que permitan diseñar y construir la mejor sanidad posible y que todos esperamos; más concretamente se plasman en la apuesta que recoge el documento por la continuidad asistencial centrada en los pacientes y con la participación de los profesionales.El emprendimiento privado en sanidad figura a la cabeza cuando se habla de\\xa0igualdad de género\\xa0(ODS 5), ya que cuenta con los índices más altos de presencia femenina en los puestos directivos y con una altísima presencia de mujeres en plantilla (el número total de mujeres trabajando en el sector sanitario es predominante, además de una forma muy notable sobre el de los hombres; de hecho, más del 70 % (7 de cada 10) son mujeres frente a un 30% aproximadamente de hombres).Asimismo, este sector está comprometido con el ODS 9 referido a la\\xa0industria, innovación e infraestructuras.', 'output': 'Text: los hospitales privados, 5W1H Label: WHO \\n Text: más del 30% de las intervenciones quirúrgicas, 5W1H Label: WHAT \\n Text: cerca del 25% de las altas, 5W1H Label: WHAT \\n Text: el 25% aproximadamente de las urgencias, 5W1H Label: WHAT \\n Text: de todo el territorio nacional.Esta, 5W1H Label: WHERE \\n Text: en su\\xa0“Manifiesto por una mejor Sanidad”, 5W1H Label: WHERE \\n Text: la entidad, 5W1H Label: WHO \\n Text: diez principios, 5W1H Label: WHAT \\n Text: diseñar y construir la mejor sanidad posible, 5W1H Label: WHAT \\n Text: todos, 5W1H Label: WHO \\n Text: el documento por la continuidad asistencial, 5W1H Label: WHAT \\n Text: en los pacientes, 5W1H Label: WHO \\n Text: de los profesionales.El, 5W1H Label: WHO \\n Text: emprendimiento privado en sanidad, 5W1H Label: WHAT \\n Text: a la cabeza, 5W1H Label: HOW \\n Text: cuando se habla de\\xa0igualdad de género\\xa0(ODS 5), 5W1H Label: WHEN \\n Text: ya que cuenta con los índices más altos de presencia femenina en los puestos directivos, 5W1H Label: WHY \\n Text: con una altísima presencia de mujeres en plantilla, 5W1H Label: WHY \\n Text: el número total de mujeres, 5W1H Label: WHO \\n Text: en el sector sanitario, 5W1H Label: WHERE \\n Text: predominante, 5W1H Label: WHAT \\n Text: de una forma muy notable, 5W1H Label: HOW \\n Text: sobre el de los hombres, 5W1H Label: WHO \\n Text: a un 30% aproximadamente de hombres, 5W1H Label: WHO \\n Text: con el ODS 9 referido a la\\xa0industria, innovación e infraestructuras, 5W1H Label: WHAT'}\n",
      "\n"
     ]
    }
   ],
   "source": [
    "# Print the first five elements of formatted_data\n",
    "for i in range(5):\n",
    "    print(formatted_data[i])\n",
    "    print()  # Print a newline for better readability between entries"
   ]
  },
  {
   "cell_type": "code",
   "execution_count": null,
   "metadata": {},
   "outputs": [],
   "source": []
  }
 ],
 "metadata": {
  "kernelspec": {
   "display_name": "Flare",
   "language": "python",
   "name": "python3"
  },
  "language_info": {
   "codemirror_mode": {
    "name": "ipython",
    "version": 3
   },
   "file_extension": ".py",
   "mimetype": "text/x-python",
   "name": "python",
   "nbconvert_exporter": "python",
   "pygments_lexer": "ipython3",
   "version": "3.11.8"
  }
 },
 "nbformat": 4,
 "nbformat_minor": 2
}
