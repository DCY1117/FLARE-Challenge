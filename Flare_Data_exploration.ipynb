{
 "cells": [
  {
   "cell_type": "markdown",
   "metadata": {},
   "source": [
    "# FLARES: FINE-GRAINED LANGUAGE-BASED RELIABILITY DETECTION IN SPANISH NEWS"
   ]
  },
  {
   "cell_type": "markdown",
   "metadata": {},
   "source": [
    "The task is divided into two subtasks:\n",
    "\n",
    "- Subtask 1: 5W1Hs identification: Participants will be provided with a text, and they will have to determine the essential content of it by annotating the answers to the 5W1H questions of the document. To participate in this task please use the following Kaggle link: FLARES: Subtask 1 --5W1Hs identification--.\n",
    "\n",
    "- Subtask 2: 5W1H-based reliability: For each 5W1H detected, participants will have to determine if the language used in each item is \"confiable\", \"semiconfiable\" or \"no confiable\", following the RUN-AS guideline. To participate in this task please use the following Kaggle link: FLARES: Subtask 2 --Reliability classification-- . "
   ]
  },
  {
   "cell_type": "markdown",
   "metadata": {},
   "source": [
    "## Substask 1"
   ]
  },
  {
   "cell_type": "markdown",
   "metadata": {},
   "source": [
    "Task output\n",
    "- Tag_Start: Start of the sentence\n",
    "- Tag_end: Sentence end\n",
    "- 5W1H_Label: Label to put to sentence [ WHAT, WHO, WHEN, WHERE, WHY, HOW]\n",
    "\n",
    "WHAT (fact), WHO (subject), WHEN (time), WHERE (place), WHY (cause), and HOW (manner)."
   ]
  },
  {
   "cell_type": "code",
   "execution_count": 4,
   "metadata": {},
   "outputs": [],
   "source": [
    "import pandas as pd"
   ]
  },
  {
   "cell_type": "code",
   "execution_count": 5,
   "metadata": {},
   "outputs": [],
   "source": [
    "# Load the data\n",
    "task1_train = pd.read_json('Flares-dataset/5w1h_subtarea_1_train.json', lines=True)\n",
    "task1_test = pd.read_json('Flares-dataset/5w1h_subtask_1_trial.json', lines=True)"
   ]
  },
  {
   "cell_type": "code",
   "execution_count": 6,
   "metadata": {},
   "outputs": [
    {
     "name": "stdout",
     "output_type": "stream",
     "text": [
      "Shape of the DataFrame train: (1585, 3)\n",
      "Shape of the DataFrame test: (168, 3)\n"
     ]
    }
   ],
   "source": [
    "# Check the shape of the DataFrame\n",
    "print(\"Shape of the DataFrame train:\", task1_train.shape)\n",
    "print(\"Shape of the DataFrame test:\", task1_test.shape)"
   ]
  },
  {
   "cell_type": "code",
   "execution_count": 7,
   "metadata": {},
   "outputs": [
    {
     "data": {
      "text/html": [
       "<div>\n",
       "<style scoped>\n",
       "    .dataframe tbody tr th:only-of-type {\n",
       "        vertical-align: middle;\n",
       "    }\n",
       "\n",
       "    .dataframe tbody tr th {\n",
       "        vertical-align: top;\n",
       "    }\n",
       "\n",
       "    .dataframe thead th {\n",
       "        text-align: right;\n",
       "    }\n",
       "</style>\n",
       "<table border=\"1\" class=\"dataframe\">\n",
       "  <thead>\n",
       "    <tr style=\"text-align: right;\">\n",
       "      <th></th>\n",
       "      <th>Id</th>\n",
       "      <th>Text</th>\n",
       "      <th>Tags</th>\n",
       "    </tr>\n",
       "  </thead>\n",
       "  <tbody>\n",
       "    <tr>\n",
       "      <th>0</th>\n",
       "      <td>732</td>\n",
       "      <td>Dos días, exactamente han pasado dos días desd...</td>\n",
       "      <td>[{'Tag_Start': 52, 'Tag_End': 59, '5W1H_Label'...</td>\n",
       "    </tr>\n",
       "    <tr>\n",
       "      <th>1</th>\n",
       "      <td>219</td>\n",
       "      <td>Pero no pasará nada, el PSOE no exigirá la dim...</td>\n",
       "      <td>[{'Tag_Start': 21, 'Tag_End': 28, '5W1H_Label'...</td>\n",
       "    </tr>\n",
       "    <tr>\n",
       "      <th>2</th>\n",
       "      <td>559</td>\n",
       "      <td>Pero los investigadores no encontraron evidenc...</td>\n",
       "      <td>[{'Tag_Start': 5, 'Tag_End': 23, '5W1H_Label':...</td>\n",
       "    </tr>\n",
       "    <tr>\n",
       "      <th>3</th>\n",
       "      <td>1296</td>\n",
       "      <td>Sus otras dos cabezas más visibles han sido el...</td>\n",
       "      <td>[{'Tag_Start': 22, 'Tag_End': 34, '5W1H_Label'...</td>\n",
       "    </tr>\n",
       "    <tr>\n",
       "      <th>4</th>\n",
       "      <td>1229</td>\n",
       "      <td>A modo de ejemplo, los hospitales privados lle...</td>\n",
       "      <td>[{'Tag_Start': 19, 'Tag_End': 42, '5W1H_Label'...</td>\n",
       "    </tr>\n",
       "  </tbody>\n",
       "</table>\n",
       "</div>"
      ],
      "text/plain": [
       "     Id                                               Text  \\\n",
       "0   732  Dos días, exactamente han pasado dos días desd...   \n",
       "1   219  Pero no pasará nada, el PSOE no exigirá la dim...   \n",
       "2   559  Pero los investigadores no encontraron evidenc...   \n",
       "3  1296  Sus otras dos cabezas más visibles han sido el...   \n",
       "4  1229  A modo de ejemplo, los hospitales privados lle...   \n",
       "\n",
       "                                                Tags  \n",
       "0  [{'Tag_Start': 52, 'Tag_End': 59, '5W1H_Label'...  \n",
       "1  [{'Tag_Start': 21, 'Tag_End': 28, '5W1H_Label'...  \n",
       "2  [{'Tag_Start': 5, 'Tag_End': 23, '5W1H_Label':...  \n",
       "3  [{'Tag_Start': 22, 'Tag_End': 34, '5W1H_Label'...  \n",
       "4  [{'Tag_Start': 19, 'Tag_End': 42, '5W1H_Label'...  "
      ]
     },
     "execution_count": 7,
     "metadata": {},
     "output_type": "execute_result"
    }
   ],
   "source": [
    "task1_train.head()"
   ]
  },
  {
   "cell_type": "code",
   "execution_count": 8,
   "metadata": {},
   "outputs": [
    {
     "data": {
      "text/plain": [
       "732"
      ]
     },
     "execution_count": 8,
     "metadata": {},
     "output_type": "execute_result"
    }
   ],
   "source": [
    "task1_train['Id'][0]"
   ]
  },
  {
   "cell_type": "code",
   "execution_count": 9,
   "metadata": {},
   "outputs": [
    {
     "data": {
      "text/plain": [
       "'Dos días, exactamente han pasado dos días desde que Sánchez compareciera en rueda de prensa en la Moncloa afirmando que a España llegarían, entre abril y septiembre, un total de 87 millones de vacunas para darnos cuenta de que las mentiras de Sánchez hacen bueno ese refrán que dice que “la mentira tiene las patas muy cortas”.'"
      ]
     },
     "execution_count": 9,
     "metadata": {},
     "output_type": "execute_result"
    }
   ],
   "source": [
    "task1_train['Text'][0]"
   ]
  },
  {
   "cell_type": "code",
   "execution_count": 10,
   "metadata": {},
   "outputs": [
    {
     "data": {
      "text/plain": [
       "{'Tag_Start': 52,\n",
       " 'Tag_End': 59,\n",
       " '5W1H_Label': 'WHO',\n",
       " 'Reliability_Label': 'confiable',\n",
       " 'Tag_Text': 'Sánchez'}"
      ]
     },
     "execution_count": 10,
     "metadata": {},
     "output_type": "execute_result"
    }
   ],
   "source": [
    "task1_train['Tags'][0][0]"
   ]
  },
  {
   "cell_type": "markdown",
   "metadata": {},
   "source": [
    "Only take into account the first 3 items."
   ]
  },
  {
   "cell_type": "code",
   "execution_count": 36,
   "metadata": {},
   "outputs": [
    {
     "data": {
      "image/png": "[encoded data removed]",
      "text/plain": [
       "<Figure size 1000x600 with 1 Axes>"
      ]
     },
     "metadata": {},
     "output_type": "display_data"
    }
   ],
   "source": [
    "import matplotlib.pyplot as plt\n",
    "from collections import Counter\n",
    "\n",
    "# Assuming task1_train['tags'] is a list of lists of dictionaries\n",
    "tags_list = task1_train['Tags']\n",
    "\n",
    "# Flatten the list of lists into a single list of dictionaries\n",
    "flat_tags = [tag for sublist in tags_list for tag in sublist]\n",
    "\n",
    "# Extract 5W1H labels from the flattened list\n",
    "labels = [tag['5W1H_Label'] for tag in flat_tags]\n",
    "\n",
    "# Count occurrences of each label\n",
    "label_counts = Counter(labels)\n",
    "\n",
    "# Plotting\n",
    "plt.figure(figsize=(10, 6))  # Adjust the figure size as needed\n",
    "plt.bar(label_counts.keys(), label_counts.values(), color='skyblue')\n",
    "plt.xlabel('5W1H Label')\n",
    "plt.ylabel('Count')\n",
    "plt.title('Count of 5W1H Labels')\n",
    "plt.xticks(rotation=45)  # Rotate labels to prevent overlap\n",
    "plt.grid(axis='y', linestyle='--', alpha=0.7)  # Optional grid\n",
    "plt.show()"
   ]
  },
  {
   "cell_type": "code",
   "execution_count": 37,
   "metadata": {},
   "outputs": [
    {
     "name": "stdout",
     "output_type": "stream",
     "text": [
      "WHO: 26.58%\n",
      "WHERE: 11.55%\n",
      "WHEN: 11.22%\n",
      "WHAT: 39.10%\n",
      "WHY: 3.43%\n",
      "HOW: 8.12%\n"
     ]
    }
   ],
   "source": [
    "# Total number of labels\n",
    "total_labels = sum(label_counts.values())\n",
    "\n",
    "# Calculating percentages for each label\n",
    "label_percentages = {label: (count / total_labels) * 100 for label, count in label_counts.items()}\n",
    "\n",
    "# Printing percentages\n",
    "for label, percentage in label_percentages.items():\n",
    "    print(f\"{label}: {percentage:.2f}%\")"
   ]
  },
  {
   "cell_type": "markdown",
   "metadata": {},
   "source": [
    "### Text labeling"
   ]
  },
  {
   "cell_type": "markdown",
   "metadata": {},
   "source": [
    "Text labeling works by putting the position of the first letter in Tag_start and the last letter + 1 in Tag_end."
   ]
  },
  {
   "cell_type": "code",
   "execution_count": 18,
   "metadata": {},
   "outputs": [],
   "source": [
    "# Your text\n",
    "text = task1_train['Text'][0]"
   ]
  },
  {
   "cell_type": "code",
   "execution_count": 19,
   "metadata": {},
   "outputs": [
    {
     "name": "stdout",
     "output_type": "stream",
     "text": [
      "Extracted Text: Sánchez, 5W1H Label: WHO\n",
      "Extracted Text: en rueda de prensa en la Moncloa, 5W1H Label: WHERE\n",
      "Extracted Text: a España, 5W1H Label: WHO\n",
      "Extracted Text: entre abril y septiembre, 5W1H Label: WHEN\n",
      "Extracted Text: un total de 87 millones de vacunas, 5W1H Label: WHAT\n",
      "Extracted Text: las mentiras, 5W1H Label: WHAT\n",
      "Extracted Text: de Sánchez, 5W1H Label: WHO\n",
      "Extracted Text: ese refrán que dice, 5W1H Label: WHAT\n"
     ]
    }
   ],
   "source": [
    "# Loop through each tag in the first item of task1_train['Tags']\n",
    "for tag in task1_train['Tags'][0]:\n",
    "    # Extract the text based on Tag_Start and Tag_End\n",
    "    extracted_text = text[tag['Tag_Start']:tag['Tag_End']]\n",
    "    # Print the extracted text and the corresponding 5W1H label\n",
    "    print(f\"Extracted Text: {extracted_text}, 5W1H Label: {tag['5W1H_Label']}\")"
   ]
  },
  {
   "cell_type": "code",
   "execution_count": 24,
   "metadata": {},
   "outputs": [
    {
     "data": {
      "text/plain": [
       "'S'"
      ]
     },
     "execution_count": 24,
     "metadata": {},
     "output_type": "execute_result"
    }
   ],
   "source": [
    "text[52]"
   ]
  },
  {
   "cell_type": "code",
   "execution_count": 25,
   "metadata": {},
   "outputs": [
    {
     "data": {
      "text/plain": [
       "' '"
      ]
     },
     "execution_count": 25,
     "metadata": {},
     "output_type": "execute_result"
    }
   ],
   "source": [
    "text[59]"
   ]
  },
  {
   "cell_type": "code",
   "execution_count": null,
   "metadata": {},
   "outputs": [],
   "source": []
  }
 ],
 "metadata": {
  "kernelspec": {
   "display_name": "OpenData",
   "language": "python",
   "name": "python3"
  },
  "language_info": {
   "codemirror_mode": {
    "name": "ipython",
    "version": 3
   },
   "file_extension": ".py",
   "mimetype": "text/x-python",
   "name": "python",
   "nbconvert_exporter": "python",
   "pygments_lexer": "ipython3",
   "version": "3.11.8"
  }
 },
 "nbformat": 4,
 "nbformat_minor": 2
}
